{
 "cells": [
  {
   "cell_type": "markdown",
   "metadata": {
    "application/vnd.databricks.v1+cell": {
     "cellMetadata": {
      "byteLimit": 2048000,
      "rowLimit": 10000
     },
     "inputWidgets": {},
     "nuid": "7e9c04f5-0681-49f4-9009-2aa4efbd1c26",
     "showTitle": false,
     "tableResultSettingsMap": {},
     "title": ""
    }
   },
   "source": [
    "# Notebook 02 | Agregações Gold Mensal\n",
    "\n",
    "**Objetivos:**\n",
    "\n",
    "- Carregar a camada Silver com vendas em USD  \n",
    "- Agregar mensalmente `total_sales_usd` de todas as `storekey`  \n",
    "- Gerar série temporal mensal contínua para modelagem ARIMA  \n",
    "- Gravar a camada Gold como Parquet pronta para análise  \n"
   ]
  },
  {
   "cell_type": "markdown",
   "metadata": {
    "application/vnd.databricks.v1+cell": {
     "cellMetadata": {
      "byteLimit": 2048000,
      "rowLimit": 10000
     },
     "inputWidgets": {},
     "nuid": "0be4c14b-a5fd-45f8-96eb-23db19e9bfc9",
     "showTitle": false,
     "tableResultSettingsMap": {},
     "title": ""
    }
   },
   "source": [
    "## 1. Configuração do Ambiente\n",
    "\n",
    "Importar funções do Spark e definir variáveis de caminho no DBFS.\n"
   ]
  },
  {
   "cell_type": "code",
   "execution_count": 0,
   "metadata": {
    "application/vnd.databricks.v1+cell": {
     "cellMetadata": {
      "byteLimit": 2048000,
      "rowLimit": 10000
     },
     "inputWidgets": {},
     "nuid": "2deeb04f-f9aa-46b0-a375-d05b7ed0f5ac",
     "showTitle": false,
     "tableResultSettingsMap": {},
     "title": ""
    }
   },
   "outputs": [],
   "source": [
    "# Importar funções do Spark SQL para manipulação de data e agregações\n",
    "from pyspark.sql.functions import (\n",
    "    col, to_date, trunc, sum as _sum,\n",
    "    min as _min, max as _max, sequence, explode, expr\n",
    ")\n",
    "\n",
    "# Definir nomes de banco e caminhos no DBFS\n",
    "silver_db   = \"silver\"\n",
    "gold_db     = \"gold\"\n",
    "gold_path   = \"/FileStore/gold/sales_monthly_gold\""
   ]
  },
  {
   "cell_type": "markdown",
   "metadata": {
    "application/vnd.databricks.v1+cell": {
     "cellMetadata": {
      "byteLimit": 2048000,
      "rowLimit": 10000
     },
     "inputWidgets": {},
     "nuid": "a98f4e39-5bcc-459c-a0ac-30b6156cd704",
     "showTitle": false,
     "tableResultSettingsMap": {},
     "title": ""
    }
   },
   "source": [
    "## 2. Carregamento da Camada Silver\n",
    "\n",
    "Ler a tabela `sales_silver` registrada no catálogo `silver`.\n"
   ]
  },
  {
   "cell_type": "code",
   "execution_count": 0,
   "metadata": {
    "application/vnd.databricks.v1+cell": {
     "cellMetadata": {
      "byteLimit": 2048000,
      "rowLimit": 10000
     },
     "inputWidgets": {},
     "nuid": "f97505f0-48ec-47a9-8c90-cef1f0145cc1",
     "showTitle": false,
     "tableResultSettingsMap": {},
     "title": ""
    }
   },
   "outputs": [],
   "source": [
    "# Carregar DataFrame da camada Silver a partir do catálogo\n",
    "df_silver = spark.table(f\"{silver_db}.sales_silver\")"
   ]
  },
  {
   "cell_type": "markdown",
   "metadata": {
    "application/vnd.databricks.v1+cell": {
     "cellMetadata": {
      "byteLimit": 2048000,
      "rowLimit": 10000
     },
     "inputWidgets": {},
     "nuid": "c77e55f2-9575-414d-a879-ce544bbeaebc",
     "showTitle": false,
     "tableResultSettingsMap": {},
     "title": ""
    }
   },
   "source": [
    "## 3. Agregação Mensal\n",
    "\n",
    "Criar coluna de início de mês e somar `total_sales_usd` por mês."
   ]
  },
  {
   "cell_type": "code",
   "execution_count": 0,
   "metadata": {
    "application/vnd.databricks.v1+cell": {
     "cellMetadata": {
      "byteLimit": 2048000,
      "rowLimit": 10000
     },
     "inputWidgets": {},
     "nuid": "49f33a89-bcc0-4239-8a4a-e26df0e69d14",
     "showTitle": false,
     "tableResultSettingsMap": {},
     "title": ""
    }
   },
   "outputs": [],
   "source": [
    "# Garantir que 'order_date' está no tipo date\n",
    "df_silver = df_silver.withColumn(\"order_date\", to_date(col(\"order_date\")))\n",
    "\n",
    "# Agregar vendas por início de mês\n",
    "df_monthly = (\n",
    "    df_silver\n",
    "      .withColumn(\"month_start\", trunc(col(\"order_date\"), \"month\"))\n",
    "      .groupBy(\"month_start\")\n",
    "      .agg(_sum(\"total_sales_usd\").alias(\"total_sales_usd\"))\n",
    ")"
   ]
  },
  {
   "cell_type": "markdown",
   "metadata": {
    "application/vnd.databricks.v1+cell": {
     "cellMetadata": {
      "byteLimit": 2048000,
      "rowLimit": 10000
     },
     "inputWidgets": {},
     "nuid": "1070b349-db0f-46e1-8050-7be151ca80ed",
     "showTitle": false,
     "tableResultSettingsMap": {},
     "title": ""
    }
   },
   "source": [
    "## 4. Geração de Série Temporal Mensal Contínua\n",
    "\n",
    "Construir sequência de todos os meses entre o mínimo e o máximo e preencher meses sem vendas com zero."
   ]
  },
  {
   "cell_type": "code",
   "execution_count": 0,
   "metadata": {
    "application/vnd.databricks.v1+cell": {
     "cellMetadata": {
      "byteLimit": 2048000,
      "rowLimit": 10000
     },
     "inputWidgets": {},
     "nuid": "2b9c34c6-c68b-4e95-a9e7-e579a72ef59f",
     "showTitle": false,
     "tableResultSettingsMap": {},
     "title": ""
    }
   },
   "outputs": [],
   "source": [
    "# Determinar datas mínima e máxima na agregação mensal\n",
    "bounds_df = df_monthly.agg(\n",
    "    _min(\"month_start\").alias(\"min_date\"),\n",
    "    _max(\"month_start\").alias(\"max_date\")\n",
    ")\n",
    "\n",
    "# Gerar sequência de datas mensais contínua\n",
    "month_seq_df = (\n",
    "    bounds_df\n",
    "      .select(sequence(col(\"min_date\"), col(\"max_date\"), expr(\"interval 1 month\")).alias(\"month_seq\"))\n",
    "      .select(explode(col(\"month_seq\")).alias(\"month_start\"))\n",
    ")\n",
    "\n",
    "# Unir sequência ao DF mensal e preencher zeros onde não havia vendas\n",
    "df_gold = (\n",
    "    month_seq_df\n",
    "      .join(df_monthly, on=\"month_start\", how=\"left\")\n",
    "      .fillna({\"total_sales_usd\": 0})\n",
    ")"
   ]
  },
  {
   "cell_type": "markdown",
   "metadata": {
    "application/vnd.databricks.v1+cell": {
     "cellMetadata": {
      "byteLimit": 2048000,
      "rowLimit": 10000
     },
     "inputWidgets": {},
     "nuid": "4a360b56-1775-4414-b252-7e5450efe092",
     "showTitle": false,
     "tableResultSettingsMap": {},
     "title": ""
    }
   },
   "source": [
    "## 5. Escrita da Camada Gold\n",
    "\n",
    "Gravar como Parquet no DBFS e registrar a tabela no catálogo `gold`.\n"
   ]
  },
  {
   "cell_type": "code",
   "execution_count": 0,
   "metadata": {
    "application/vnd.databricks.v1+cell": {
     "cellMetadata": {
      "byteLimit": 2048000,
      "rowLimit": 10000
     },
     "inputWidgets": {},
     "nuid": "561b12a4-5709-4a2c-abad-775ed1878cc4",
     "showTitle": false,
     "tableResultSettingsMap": {},
     "title": ""
    }
   },
   "outputs": [
    {
     "output_type": "stream",
     "name": "stdout",
     "output_type": "stream",
     "text": [
      "Out[13]: DataFrame[]"
     ]
    }
   ],
   "source": [
    "# Gravar DataFrame Gold em formato Parquet\n",
    "df_gold.write \\\n",
    "    .format(\"parquet\") \\\n",
    "    .mode(\"overwrite\") \\\n",
    "    .save(f\"{gold_path}\")\n",
    "\n",
    "# Criar banco e tabela no catálogo para facilitar consultas\n",
    "spark.sql(f\"CREATE DATABASE IF NOT EXISTS {gold_db}\")\n",
    "spark.sql(f\"\"\"\n",
    "    CREATE TABLE IF NOT EXISTS {gold_db}.sales_monthly_gold\n",
    "    USING PARQUET\n",
    "    LOCATION '{gold_path}'\n",
    "\"\"\")\n"
   ]
  },
  {
   "cell_type": "markdown",
   "metadata": {
    "application/vnd.databricks.v1+cell": {
     "cellMetadata": {
      "byteLimit": 2048000,
      "rowLimit": 10000
     },
     "inputWidgets": {},
     "nuid": "57b22182-4827-4a82-922c-0a2a68a51012",
     "showTitle": false,
     "tableResultSettingsMap": {},
     "title": ""
    }
   },
   "source": [
    "## 6. Verificação Final\n",
    "\n",
    "Mostrar esquema e algumas linhas da tabela Gold para checagem.\n"
   ]
  },
  {
   "cell_type": "code",
   "execution_count": 0,
   "metadata": {
    "application/vnd.databricks.v1+cell": {
     "cellMetadata": {
      "byteLimit": 2048000,
      "rowLimit": 10000
     },
     "inputWidgets": {},
     "nuid": "da7793ee-4247-46e1-84bb-ca469ce67bcc",
     "showTitle": false,
     "tableResultSettingsMap": {},
     "title": ""
    }
   },
   "outputs": [
    {
     "output_type": "stream",
     "name": "stdout",
     "output_type": "stream",
     "text": [
      "root\n |-- month_start: date (nullable = false)\n |-- total_sales_usd: double (nullable = false)\n\n+-----------+------------------+\n|month_start|total_sales_usd   |\n+-----------+------------------+\n|2016-01-01 |645982.101124     |\n|2016-02-01 |885621.1520109985 |\n|2016-03-01 |332996.9424040003 |\n|2016-04-01 |111698.406021     |\n|2016-05-01 |566862.1989969998 |\n|2016-06-01 |502270.70808399975|\n|2016-07-01 |437780.70451899973|\n|2016-08-01 |534085.3412010001 |\n|2016-09-01 |581498.5341419992 |\n|2016-10-01 |609006.9330939996 |\n+-----------+------------------+\nonly showing top 10 rows\n\n"
     ]
    }
   ],
   "source": [
    "# Exibir esquema e primeiras linhas do DataFrame Gold\n",
    "df_gold.printSchema()\n",
    "df_gold.show(10, False)\n",
    "\n"
   ]
  },
  {
   "cell_type": "markdown",
   "metadata": {
    "application/vnd.databricks.v1+cell": {
     "cellMetadata": {
      "byteLimit": 2048000,
      "rowLimit": 10000
     },
     "inputWidgets": {},
     "nuid": "d32ebfa6-e1e5-4ad9-82c2-3ab78c5ba6ce",
     "showTitle": false,
     "tableResultSettingsMap": {},
     "title": ""
    }
   },
   "source": [
    "## 7. Próximos Passos\n",
    "\n",
    "- Explorar visualmente a série temporal agregada de vendas  \n",
    "- Identificar padrões, sazonalidades e outliers para tratamento pré-modelagem  \n",
    "- Iniciar a aplicação de modelos preditivos (SARIMA, Prophet) com janelas definidas  \n"
   ]
  }
 ],
 "metadata": {
  "application/vnd.databricks.v1+notebook": {
   "computePreferences": null,
   "dashboards": [],
   "environmentMetadata": {
    "base_environment": "",
    "environment_version": "1"
   },
   "inputWidgetPreferences": null,
   "language": "python",
   "notebookMetadata": {
    "pythonIndentUnit": 4
   },
   "notebookName": "02_gold_agregacoes_mensais",
   "widgets": {}
  },
  "kernelspec": {
   "display_name": "Python 3",
   "language": "python",
   "name": "python3"
  },
  "language_info": {
   "codemirror_mode": {
    "name": "ipython",
    "version": 3
   },
   "file_extension": ".py",
   "mimetype": "text/x-python",
   "name": "python",
   "nbconvert_exporter": "python",
   "pygments_lexer": "ipython3",
   "version": "3.12.4"
  }
 },
 "nbformat": 4,
 "nbformat_minor": 0
}