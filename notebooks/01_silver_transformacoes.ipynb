{
 "cells": [
  {
   "cell_type": "markdown",
   "metadata": {
    "application/vnd.databricks.v1+cell": {
     "cellMetadata": {
      "byteLimit": 2048000,
      "rowLimit": 10000
     },
     "inputWidgets": {},
     "nuid": "cd8bd616-a02a-4ab0-9838-51a513d54825",
     "showTitle": false,
     "tableResultSettingsMap": {},
     "title": ""
    }
   },
   "source": [
    "Notebook 01 | Transformações Silver\n",
    "\n",
    "Objetivos:\n",
    "- Carregar as tabelas Bronze registradas em `/FileStore/bronze`\n",
    "- Realizar joins entre Sales, Products, Stores e Exchange Rates\n",
    "- Converter todos os valores para USD\n",
    "- Tratar inconsistências, nulos e tipos de dados\n",
    "- Gravar a camada Silver como Delta Table pronta para modelagem"
   ]
  },
  {
   "cell_type": "markdown",
   "metadata": {
    "application/vnd.databricks.v1+cell": {
     "cellMetadata": {
      "byteLimit": 2048000,
      "rowLimit": 10000
     },
     "inputWidgets": {},
     "nuid": "ee70c8dc-51a2-41c2-8bf9-8fd3f02d847a",
     "showTitle": false,
     "tableResultSettingsMap": {},
     "title": ""
    }
   },
   "source": [
    "## 1. Configuração do Ambiente\n",
    "\n",
    "Importar bibliotecas necessárias e definir caminhos das tabelas."
   ]
  },
  {
   "cell_type": "code",
   "execution_count": 0,
   "metadata": {
    "application/vnd.databricks.v1+cell": {
     "cellMetadata": {
      "byteLimit": 2048000,
      "rowLimit": 10000
     },
     "inputWidgets": {},
     "nuid": "95a71b43-7d07-4e31-b667-fb9373af778b",
     "showTitle": false,
     "tableResultSettingsMap": {},
     "title": ""
    }
   },
   "outputs": [],
   "source": [
    "from pyspark.sql.functions import col, to_date, regexp_replace\n",
    "from pyspark.sql.types import DecimalType\n",
    "\n",
    "bronze_db = \"bronze\"\n",
    "silver_db = \"silver\"\n",
    "silver_path = \"/FileStore/silver\""
   ]
  },
  {
   "cell_type": "markdown",
   "metadata": {
    "application/vnd.databricks.v1+cell": {
     "cellMetadata": {
      "byteLimit": 2048000,
      "rowLimit": 10000
     },
     "inputWidgets": {},
     "nuid": "d5466fdc-4cb5-42e7-9590-57616cb54ae5",
     "showTitle": false,
     "tableResultSettingsMap": {},
     "title": ""
    }
   },
   "source": [
    "## 2. Carregamento das Tabelas Bronze\n",
    "\n",
    "Ler as Delta Tables já registradas no catálogo `bronze`.\n"
   ]
  },
  {
   "cell_type": "code",
   "execution_count": 0,
   "metadata": {
    "application/vnd.databricks.v1+cell": {
     "cellMetadata": {
      "byteLimit": 2048000,
      "rowLimit": 10000
     },
     "inputWidgets": {},
     "nuid": "b1b6de68-a079-452c-86e8-58cb8d94bc23",
     "showTitle": false,
     "tableResultSettingsMap": {},
     "title": ""
    }
   },
   "outputs": [],
   "source": [
    "sales_bronze       = spark.table(f\"{bronze_db}.sales_bronze\")\n",
    "products_bronze    = spark.table(f\"{bronze_db}.products_bronze\")\n",
    "stores_bronze      = spark.table(f\"{bronze_db}.stores_bronze\")\n",
    "exchange_bronze    = spark.table(f\"{bronze_db}.exchange_rates_bronze\")"
   ]
  },
  {
   "cell_type": "markdown",
   "metadata": {
    "application/vnd.databricks.v1+cell": {
     "cellMetadata": {
      "byteLimit": 2048000,
      "rowLimit": 10000
     },
     "inputWidgets": {},
     "nuid": "4791881b-9b09-4a0d-b3ba-a0dd6d1fa148",
     "showTitle": false,
     "tableResultSettingsMap": {},
     "title": ""
    }
   },
   "source": [
    "## 3. Inspeção Inicial\n",
    "\n",
    "Verificar schema e amostra das tabelas para garantir consistência."
   ]
  },
  {
   "cell_type": "code",
   "execution_count": 0,
   "metadata": {
    "application/vnd.databricks.v1+cell": {
     "cellMetadata": {
      "byteLimit": 2048000,
      "rowLimit": 10000
     },
     "inputWidgets": {},
     "nuid": "76cf6cec-9784-400d-8567-84af77ab8eff",
     "showTitle": false,
     "tableResultSettingsMap": {},
     "title": ""
    }
   },
   "outputs": [
    {
     "name": "stdout",
     "output_type": "stream",
     "text": [
      "root\n",
      " |-- order_number: integer (nullable = true)\n",
      " |-- line_item: integer (nullable = true)\n",
      " |-- order_date: date (nullable = true)\n",
      " |-- delivery_date: date (nullable = true)\n",
      " |-- customerkey: integer (nullable = true)\n",
      " |-- storekey: integer (nullable = true)\n",
      " |-- productkey: integer (nullable = true)\n",
      " |-- quantity: integer (nullable = true)\n",
      " |-- currency_code: string (nullable = true)\n",
      "\n",
      "+------------+---------+----------+-------------+-----------+--------+----------+--------+-------------+\n",
      "|order_number|line_item|order_date|delivery_date|customerkey|storekey|productkey|quantity|currency_code|\n",
      "+------------+---------+----------+-------------+-----------+--------+----------+--------+-------------+\n",
      "|366000      |1        |2016-01-01|NULL         |265598     |10      |1304      |1       |CAD          |\n",
      "|366001      |1        |2016-01-01|2016-01-13   |1269051    |0       |1048      |2       |USD          |\n",
      "|366001      |2        |2016-01-01|2016-01-13   |1269051    |0       |2007      |1       |USD          |\n",
      "|366002      |1        |2016-01-01|2016-01-12   |266019     |0       |1106      |7       |CAD          |\n",
      "|366002      |2        |2016-01-01|2016-01-12   |266019     |0       |373       |1       |CAD          |\n",
      "+------------+---------+----------+-------------+-----------+--------+----------+--------+-------------+\n",
      "only showing top 5 rows\n",
      "\n",
      "root\n",
      " |-- productkey: integer (nullable = true)\n",
      " |-- product_name: string (nullable = true)\n",
      " |-- brand: string (nullable = true)\n",
      " |-- color: string (nullable = true)\n",
      " |-- unit_cost_usd: string (nullable = true)\n",
      " |-- unit_price_usd: string (nullable = true)\n",
      " |-- subcategorykey: integer (nullable = true)\n",
      " |-- subcategory: string (nullable = true)\n",
      " |-- categorykey: integer (nullable = true)\n",
      " |-- category: string (nullable = true)\n",
      "\n",
      "root\n",
      " |-- storekey: integer (nullable = true)\n",
      " |-- country: string (nullable = true)\n",
      " |-- state: string (nullable = true)\n",
      " |-- square_meters: integer (nullable = true)\n",
      " |-- open_date: date (nullable = true)\n",
      "\n",
      "root\n",
      " |-- date: date (nullable = true)\n",
      " |-- currency: string (nullable = true)\n",
      " |-- exchange: double (nullable = true)\n",
      "\n"
     ]
    }
   ],
   "source": [
    "sales_bronze.printSchema()\n",
    "sales_bronze.show(5, truncate=False)\n",
    "\n",
    "products_bronze.printSchema()\n",
    "stores_bronze.printSchema()\n",
    "exchange_bronze.printSchema()"
   ]
  },
  {
   "cell_type": "markdown",
   "metadata": {
    "application/vnd.databricks.v1+cell": {
     "cellMetadata": {
      "byteLimit": 2048000,
      "rowLimit": 10000
     },
     "inputWidgets": {},
     "nuid": "bbac78ad-57cf-49e8-a8f3-c038118edc2c",
     "showTitle": false,
     "tableResultSettingsMap": {},
     "title": ""
    }
   },
   "source": [
    "## 4. Junções (Joins)\n",
    "\n",
    "- `sales_bronze` ↔ `products_bronze` por `productkey`  \n",
    "- resultado ↔ `stores_bronze` por `storekey`  \n",
    "- para normalização cambial, fazer join com `exchange_bronze` usando `order_date` e `currency_code`\n",
    "\n"
   ]
  },
  {
   "cell_type": "code",
   "execution_count": 0,
   "metadata": {
    "application/vnd.databricks.v1+cell": {
     "cellMetadata": {
      "byteLimit": 2048000,
      "rowLimit": 10000
     },
     "inputWidgets": {},
     "nuid": "6b5061c1-ef4e-4eb1-8558-b4deb7816308",
     "showTitle": false,
     "tableResultSettingsMap": {},
     "title": ""
    }
   },
   "outputs": [],
   "source": [
    "# Sales + Products\n",
    "df = sales_bronze.alias(\"s\") \\\n",
    "    .join(products_bronze.alias(\"p\"), col(\"s.productkey\") == col(\"p.productkey\"), \"left\") \\\n",
    "    .select(\"s.*\", \"p.category\", \"p.subcategory\", \"p.unit_price_usd\")\n",
    "\n",
    "# + Stores\n",
    "df = df.join(stores_bronze.alias(\"st\"), df[\"storekey\"] == col(\"st.storekey\"), \"left\") \\\n",
    "       .select(df[\"*\"], \"st.country\", \"st.state\", \"st.square_meters\")\n",
    "\n",
    "# Preparar datas para join cambial\n",
    "df = df.withColumn(\"order_date\", to_date(col(\"order_date\"), \"yyyy-MM-dd\"))\n",
    "exchange = exchange_bronze.withColumn(\"date\", to_date(col(\"date\"), \"yyyy-MM-dd\"))\n",
    "\n"
   ]
  },
  {
   "cell_type": "markdown",
   "metadata": {
    "application/vnd.databricks.v1+cell": {
     "cellMetadata": {
      "byteLimit": 2048000,
      "rowLimit": 10000
     },
     "inputWidgets": {},
     "nuid": "c9074303-bae4-4b6c-86c2-320583c110eb",
     "showTitle": false,
     "tableResultSettingsMap": {},
     "title": ""
    }
   },
   "source": [
    "## 5. Conversão de Moeda para USD\n",
    "\n",
    "- Unir com `exchange` para obter taxa de câmbio  \n",
    "- Corrigir tipo do preço (`unit_price_usd`)  \n",
    "- Calcular `total_sales_usd = quantity * unit_price_usd * exchange`\n"
   ]
  },
  {
   "cell_type": "code",
   "execution_count": 0,
   "metadata": {
    "application/vnd.databricks.v1+cell": {
     "cellMetadata": {
      "byteLimit": 2048000,
      "rowLimit": 10000
     },
     "inputWidgets": {},
     "nuid": "32488343-1614-4ced-b343-ed1a645ce1f6",
     "showTitle": false,
     "tableResultSettingsMap": {},
     "title": ""
    }
   },
   "outputs": [],
   "source": [
    "# Join com exchange\n",
    "df = df.join(exchange.alias(\"e\"),\n",
    "             (df.order_date == col(\"e.date\")) & (df.currency_code == col(\"e.currency\")),\n",
    "             \"left\")\n",
    "\n",
    "# Remover cifrão e converter unit_price_usd para double\n",
    "df = df.withColumn(\"unit_price_usd\", regexp_replace(\"unit_price_usd\", \"[$]\", \"\").cast(\"double\"))\n",
    "\n",
    "# Calcular total_sales_usd\n",
    "df = df.withColumn(\n",
    "    \"total_sales_usd\",\n",
    "    (col(\"quantity\") * col(\"unit_price_usd\") * col(\"e.exchange\")).cast(DecimalType(18, 2))\n",
    ")\n",
    "\n"
   ]
  },
  {
   "cell_type": "markdown",
   "metadata": {
    "application/vnd.databricks.v1+cell": {
     "cellMetadata": {
      "byteLimit": 2048000,
      "rowLimit": 10000
     },
     "inputWidgets": {},
     "nuid": "6956da0e-3d4b-44da-95d2-9c48ecd82a40",
     "showTitle": false,
     "tableResultSettingsMap": {},
     "title": ""
    }
   },
   "source": [
    "## 6. Tratamento de Dados\n",
    "\n",
    "- Preencher ou remover nulos críticos  \n",
    "- Ajustar tipos de colunas se necessário  \n",
    "- Remover colunas intermediárias usadas apenas no processo\n",
    "\n"
   ]
  },
  {
   "cell_type": "code",
   "execution_count": 0,
   "metadata": {
    "application/vnd.databricks.v1+cell": {
     "cellMetadata": {
      "byteLimit": 2048000,
      "rowLimit": 10000
     },
     "inputWidgets": {},
     "nuid": "2c0e200d-2543-4339-8dc5-59f30064d4dc",
     "showTitle": false,
     "tableResultSettingsMap": {},
     "title": ""
    }
   },
   "outputs": [],
   "source": [
    "# Preenche valores nulos após os joins\n",
    "df = df.fillna({\n",
    "    \"category\": \"unknown\",\n",
    "    \"subcategory\": \"unknown\",\n",
    "    \"e.exchange\": 1.0\n",
    "})\n",
    "\n",
    "df = df.withColumn(\"square_meters\", col(\"square_meters\").cast(\"integer\"))\n",
    "\n",
    "# Remover colunas auxiliares\n",
    "df = df.drop(\"currency_code\", \"e.date\", \"e.currency\", \"e.exchange\")"
   ]
  },
  {
   "cell_type": "markdown",
   "metadata": {
    "application/vnd.databricks.v1+cell": {
     "cellMetadata": {
      "byteLimit": 2048000,
      "rowLimit": 10000
     },
     "inputWidgets": {},
     "nuid": "4e8f786c-e36a-4199-b4ef-29e695faf8bc",
     "showTitle": false,
     "tableResultSettingsMap": {},
     "title": ""
    }
   },
   "source": [
    "## 7. Verificação Final\n",
    "\n",
    "Visualizar dados tratados antes da escrita.\n"
   ]
  },
  {
   "cell_type": "code",
   "execution_count": 0,
   "metadata": {
    "application/vnd.databricks.v1+cell": {
     "cellMetadata": {
      "byteLimit": 2048000,
      "rowLimit": 10000
     },
     "inputWidgets": {},
     "nuid": "acec6cdb-5b48-432f-906b-b9de247cc80a",
     "showTitle": false,
     "tableResultSettingsMap": {},
     "title": ""
    }
   },
   "outputs": [
    {
     "name": "stdout",
     "output_type": "stream",
     "text": [
      "root\n",
      " |-- order_number: integer (nullable = true)\n",
      " |-- line_item: integer (nullable = true)\n",
      " |-- order_date: date (nullable = true)\n",
      " |-- delivery_date: date (nullable = true)\n",
      " |-- customerkey: integer (nullable = true)\n",
      " |-- storekey: integer (nullable = true)\n",
      " |-- productkey: integer (nullable = true)\n",
      " |-- quantity: integer (nullable = true)\n",
      " |-- category: string (nullable = false)\n",
      " |-- subcategory: string (nullable = false)\n",
      " |-- unit_price_usd: double (nullable = true)\n",
      " |-- country: string (nullable = true)\n",
      " |-- state: string (nullable = true)\n",
      " |-- square_meters: integer (nullable = true)\n",
      " |-- date: date (nullable = true)\n",
      " |-- currency: string (nullable = true)\n",
      " |-- exchange: double (nullable = false)\n",
      " |-- total_sales_usd: decimal(18,2) (nullable = true)\n",
      "\n",
      "+----------+--------------+--------+---------------+\n",
      "|order_date|unit_price_usd|quantity|total_sales_usd|\n",
      "+----------+--------------+--------+---------------+\n",
      "|2016-01-01|68.0          |1       |94.41          |\n",
      "|2016-01-01|427.0         |2       |854.00         |\n",
      "|2016-01-01|665.94        |1       |665.94         |\n",
      "|2016-01-01|322.0         |7       |3129.45        |\n",
      "|2016-01-01|326.0         |1       |452.62         |\n",
      "|2016-01-01|646.0         |4       |3587.63        |\n",
      "|2016-01-01|NULL          |6       |NULL           |\n",
      "|2016-01-01|255.0         |2       |343.84         |\n",
      "|2016-01-01|469.0         |4       |1723.11        |\n",
      "|2016-01-01|57.99         |1       |57.99          |\n",
      "+----------+--------------+--------+---------------+\n",
      "only showing top 10 rows\n",
      "\n"
     ]
    }
   ],
   "source": [
    "df.printSchema()\n",
    "df.select(\"order_date\", \"unit_price_usd\", \"quantity\", \"total_sales_usd\").show(10, truncate=False)"
   ]
  },
  {
   "cell_type": "markdown",
   "metadata": {
    "application/vnd.databricks.v1+cell": {
     "cellMetadata": {
      "byteLimit": 2048000,
      "rowLimit": 10000
     },
     "inputWidgets": {},
     "nuid": "a054fe40-bd3f-4799-be30-8b49bb19ae86",
     "showTitle": false,
     "tableResultSettingsMap": {},
     "title": ""
    }
   },
   "source": []
  },
  {
   "cell_type": "markdown",
   "metadata": {
    "application/vnd.databricks.v1+cell": {
     "cellMetadata": {
      "byteLimit": 2048000,
      "rowLimit": 10000
     },
     "inputWidgets": {},
     "nuid": "b1be18a7-9569-4ee3-b5a2-11929fe70bdd",
     "showTitle": false,
     "tableResultSettingsMap": {},
     "title": ""
    }
   },
   "source": [
    "## 8. Escrita da Camada Silver\n",
    "\n",
    "Gravar como Delta Table e registrar no catálogo SQL `silver`.\n"
   ]
  },
  {
   "cell_type": "code",
   "execution_count": 0,
   "metadata": {
    "application/vnd.databricks.v1+cell": {
     "cellMetadata": {
      "byteLimit": 2048000,
      "rowLimit": 10000
     },
     "inputWidgets": {},
     "nuid": "a028ca56-a1bf-4d31-aabd-2b6d5d374ac3",
     "showTitle": false,
     "tableResultSettingsMap": {},
     "title": ""
    }
   },
   "outputs": [
    {
     "data": {
      "text/plain": [
       "DataFrame[]"
      ]
     },
     "execution_count": 8,
     "metadata": {},
     "output_type": "execute_result"
    }
   ],
   "source": [
    "# Gravar no DBFS\n",
    "df.write \\\n",
    "  .format(\"delta\") \\\n",
    "  .mode(\"overwrite\") \\\n",
    "  .save(f\"{silver_path}/sales_silver\")\n",
    "\n",
    "# Registrar no catálogo\n",
    "spark.sql(f\"CREATE DATABASE IF NOT EXISTS {silver_db}\")\n",
    "spark.sql(f\"\"\"\n",
    "  CREATE TABLE IF NOT EXISTS {silver_db}.sales_silver\n",
    "  USING DELTA\n",
    "  LOCATION '{silver_path}/sales_silver'\n",
    "\"\"\")\n"
   ]
  },
  {
   "cell_type": "markdown",
   "metadata": {
    "application/vnd.databricks.v1+cell": {
     "cellMetadata": {
      "byteLimit": 2048000,
      "rowLimit": 10000
     },
     "inputWidgets": {},
     "nuid": "f48fcab0-c407-44d0-a85d-5ef6bcf9bfdb",
     "showTitle": false,
     "tableResultSettingsMap": {},
     "title": ""
    }
   },
   "source": [
    "## 9. Próximos Passos\n",
    "\n",
    "- Iniciar preparação de features e agregações na camada Gold\n"
   ]
  }
 ],
 "metadata": {
  "application/vnd.databricks.v1+notebook": {
   "computePreferences": null,
   "dashboards": [],
   "environmentMetadata": {
    "base_environment": "",
    "environment_version": "1"
   },
   "inputWidgetPreferences": null,
   "language": "python",
   "notebookMetadata": {
    "mostRecentlyExecutedCommandWithImplicitDF": {
     "commandId": 3270561482314172,
     "dataframes": [
      "_sqldf"
     ]
    },
    "pythonIndentUnit": 4
   },
   "notebookName": "01_silver_transformacoes",
   "widgets": {}
  },
  "language_info": {
   "name": "python"
  }
 },
 "nbformat": 4,
 "nbformat_minor": 0
}
