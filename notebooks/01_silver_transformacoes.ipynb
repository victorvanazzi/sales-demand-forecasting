{
 "cells": [
  {
   "cell_type": "markdown",
   "metadata": {
    "application/vnd.databricks.v1+cell": {
     "cellMetadata": {
      "byteLimit": 2048000,
      "rowLimit": 10000
     },
     "inputWidgets": {},
     "nuid": "cd8bd616-a02a-4ab0-9838-51a513d54825",
     "showTitle": false,
     "tableResultSettingsMap": {},
     "title": ""
    }
   },
   "source": [
    "# Notebook 01 | Transformações Silver\n",
    "\n",
    "Objetivos:\n",
    "\n",
    "- Carregar as tabelas Bronze registradas em `/FileStore/bronze`  \n",
    "- Realizar joins entre Sales, Products, Stores e Exchange Rates  \n",
    "- Converter todos os valores para USD  \n",
    "- Tratar inconsistências, nulos e tipos de dados  \n",
    "- Gravar a camada Silver como Delta Table pronta para modelagem  "
   ]
  },
  {
   "cell_type": "markdown",
   "metadata": {
    "application/vnd.databricks.v1+cell": {
     "cellMetadata": {
      "byteLimit": 2048000,
      "rowLimit": 10000
     },
     "inputWidgets": {},
     "nuid": "ee70c8dc-51a2-41c2-8bf9-8fd3f02d847a",
     "showTitle": false,
     "tableResultSettingsMap": {},
     "title": ""
    }
   },
   "source": [
    "## 1. Configuração do Ambiente\n",
    "\n",
    "Inicializar Spark, importar funções e definir banco e caminho da camada Silver.\n"
   ]
  },
  {
   "cell_type": "code",
   "execution_count": 0,
   "metadata": {
    "application/vnd.databricks.v1+cell": {
     "cellMetadata": {
      "byteLimit": 2048000,
      "rowLimit": 10000
     },
     "inputWidgets": {},
     "nuid": "95a71b43-7d07-4e31-b667-fb9373af778b",
     "showTitle": false,
     "tableResultSettingsMap": {},
     "title": ""
    }
   },
   "outputs": [],
   "source": [
    "# Iniciar Spark e importar funções necessárias\n",
    "from pyspark.sql import SparkSession\n",
    "from pyspark.sql.functions import to_date, regexp_replace, col\n",
    "from pyspark.sql.types import DoubleType, IntegerType\n",
    "\n",
    "spark = SparkSession.builder.getOrCreate()\n",
    "\n",
    "# Definir nomes de banco e caminho no DBFS\n",
    "bronze_db   = \"bronze\"\n",
    "silver_db   = \"silver\"\n",
    "silver_path = \"/FileStore/silver/sales_silver\""
   ]
  },
  {
   "cell_type": "markdown",
   "metadata": {
    "application/vnd.databricks.v1+cell": {
     "cellMetadata": {
      "byteLimit": 2048000,
      "rowLimit": 10000
     },
     "inputWidgets": {},
     "nuid": "d5466fdc-4cb5-42e7-9590-57616cb54ae5",
     "showTitle": false,
     "tableResultSettingsMap": {},
     "title": ""
    }
   },
   "source": [
    "## 2. Carregamento das Tabelas Bronze\n",
    "\n",
    "Ler as Delta Tables registradas no catálogo `bronze`.\n",
    "\n"
   ]
  },
  {
   "cell_type": "code",
   "execution_count": 0,
   "metadata": {
    "application/vnd.databricks.v1+cell": {
     "cellMetadata": {
      "byteLimit": 2048000,
      "rowLimit": 10000
     },
     "inputWidgets": {},
     "nuid": "b1b6de68-a079-452c-86e8-58cb8d94bc23",
     "showTitle": false,
     "tableResultSettingsMap": {},
     "title": ""
    }
   },
   "outputs": [],
   "source": [
    "# Carregar dados Bronze via catálogo\n",
    "sales    = spark.table(f\"{bronze_db}.sales_bronze\")\n",
    "products = spark.table(f\"{bronze_db}.products_bronze\")\n",
    "stores   = spark.table(f\"{bronze_db}.stores_bronze\")\n",
    "exchange = spark.table(f\"{bronze_db}.exchange_rates_bronze\")"
   ]
  },
  {
   "cell_type": "markdown",
   "metadata": {
    "application/vnd.databricks.v1+cell": {
     "cellMetadata": {
      "byteLimit": 2048000,
      "rowLimit": 10000
     },
     "inputWidgets": {},
     "nuid": "4791881b-9b09-4a0d-b3ba-a0dd6d1fa148",
     "showTitle": false,
     "tableResultSettingsMap": {},
     "title": ""
    }
   },
   "source": [
    "## 3. Inspeção Inicial\n",
    "\n",
    "Verificar esquema e primeiros registros para garantir consistência.\n"
   ]
  },
  {
   "cell_type": "code",
   "execution_count": 0,
   "metadata": {
    "application/vnd.databricks.v1+cell": {
     "cellMetadata": {
      "byteLimit": 2048000,
      "rowLimit": 10000
     },
     "inputWidgets": {},
     "nuid": "76cf6cec-9784-400d-8567-84af77ab8eff",
     "showTitle": false,
     "tableResultSettingsMap": {},
     "title": ""
    }
   },
   "outputs": [
    {
     "output_type": "stream",
     "name": "stdout",
     "output_type": "stream",
     "text": [
      "root\n |-- order_number: integer (nullable = true)\n |-- line_item: integer (nullable = true)\n |-- order_date: date (nullable = true)\n |-- delivery_date: date (nullable = true)\n |-- customerkey: integer (nullable = true)\n |-- storekey: integer (nullable = true)\n |-- productkey: integer (nullable = true)\n |-- quantity: integer (nullable = true)\n |-- currency_code: string (nullable = true)\n\nroot\n |-- productkey: integer (nullable = true)\n |-- product_name: string (nullable = true)\n |-- brand: string (nullable = true)\n |-- color: string (nullable = true)\n |-- unit_cost_usd: string (nullable = true)\n |-- unit_price_usd: string (nullable = true)\n |-- subcategorykey: integer (nullable = true)\n |-- subcategory: string (nullable = true)\n |-- categorykey: integer (nullable = true)\n |-- category: string (nullable = true)\n\nroot\n |-- storekey: integer (nullable = true)\n |-- country: string (nullable = true)\n |-- state: string (nullable = true)\n |-- square_meters: integer (nullable = true)\n |-- open_date: date (nullable = true)\n\nroot\n |-- date: date (nullable = true)\n |-- currency: string (nullable = true)\n |-- exchange: double (nullable = true)\n\n"
     ]
    }
   ],
   "source": [
    "# Conferir esquemas e amostras\n",
    "sales.printSchema()\n",
    "products.printSchema()\n",
    "stores.printSchema()\n",
    "exchange.printSchema()"
   ]
  },
  {
   "cell_type": "markdown",
   "metadata": {
    "application/vnd.databricks.v1+cell": {
     "cellMetadata": {
      "byteLimit": 2048000,
      "rowLimit": 10000
     },
     "inputWidgets": {},
     "nuid": "bbac78ad-57cf-49e8-a8f3-c038118edc2c",
     "showTitle": false,
     "tableResultSettingsMap": {},
     "title": ""
    }
   },
   "source": [
    "## 4. Junções (Joins)\n",
    "\n",
    "- `sales_bronze` ↔ `products_bronze` por `productkey`  \n",
    "- resultado ↔ `stores_bronze` por `storekey`  \n",
    "- para normalização cambial, join com `exchange_bronze` usando `order_date` e `currency_code`  \n",
    "\n",
    "\n"
   ]
  },
  {
   "cell_type": "code",
   "execution_count": 0,
   "metadata": {
    "application/vnd.databricks.v1+cell": {
     "cellMetadata": {
      "byteLimit": 2048000,
      "rowLimit": 10000
     },
     "inputWidgets": {},
     "nuid": "6b5061c1-ef4e-4eb1-8558-b4deb7816308",
     "showTitle": false,
     "tableResultSettingsMap": {},
     "title": ""
    }
   },
   "outputs": [],
   "source": [
    "# Join com produtos\n",
    "df = (\n",
    "    sales.alias(\"s\")\n",
    "         .join(products.alias(\"p\"), col(\"s.productkey\") == col(\"p.productkey\"), \"left\")\n",
    "         .select(\"s.*\", \"p.category\", \"p.subcategory\", \"p.unit_price_usd\")\n",
    ")\n",
    "\n",
    "# Join com lojas\n",
    "df = (\n",
    "    df.join(stores.alias(\"st\"), df[\"storekey\"] == col(\"st.storekey\"), \"left\")\n",
    "      .select(df[\"*\"], \"st.country\", \"st.state\", \"st.square_meters\")\n",
    ")\n",
    "\n",
    "# Padronizar formatos de data\n",
    "df = df.withColumn(\"order_date\", to_date(\"order_date\", \"yyyy-MM-dd\"))\n",
    "exchange = exchange.withColumn(\"date\", to_date(\"date\", \"yyyy-MM-dd\"))\n",
    "\n",
    "\n"
   ]
  },
  {
   "cell_type": "markdown",
   "metadata": {
    "application/vnd.databricks.v1+cell": {
     "cellMetadata": {
      "byteLimit": 2048000,
      "rowLimit": 10000
     },
     "inputWidgets": {},
     "nuid": "c9074303-bae4-4b6c-86c2-320583c110eb",
     "showTitle": false,
     "tableResultSettingsMap": {},
     "title": ""
    }
   },
   "source": [
    "## 5. Conversão de Moeda para USD\n",
    "\n",
    "- Unir com `exchange` para obter taxa de câmbio  \n",
    "- Remover símbolo de cifrão e converter `unit_price_usd` para double  \n",
    "- Calcular `total_sales_usd = quantity * unit_price_usd * exchange`  \n",
    "\n"
   ]
  },
  {
   "cell_type": "code",
   "execution_count": 0,
   "metadata": {
    "application/vnd.databricks.v1+cell": {
     "cellMetadata": {
      "byteLimit": 2048000,
      "rowLimit": 10000
     },
     "inputWidgets": {},
     "nuid": "32488343-1614-4ced-b343-ed1a645ce1f6",
     "showTitle": false,
     "tableResultSettingsMap": {},
     "title": ""
    }
   },
   "outputs": [],
   "source": [
    "# Join com exchange usando order_date + currency_code\n",
    "df = (\n",
    "    df.join(exchange.alias(\"e\"),\n",
    "            (df.order_date == col(\"e.date\")) &\n",
    "            (df.currency_code == col(\"e.currency\")),\n",
    "            \"left\")\n",
    ")\n",
    "\n",
    "# Limpar unit_price_usd: remover cifrão e vírgula\n",
    "df = df.withColumn(\n",
    "    \"unit_price_usd\",\n",
    "    regexp_replace(\"unit_price_usd\", \"[$,]\", \"\").cast(DoubleType())\n",
    ")\n",
    "\n",
    "# Calcular total_sales_usd\n",
    "df = df.withColumn(\n",
    "    \"total_sales_usd\",\n",
    "    (col(\"quantity\") * col(\"unit_price_usd\") * col(\"e.exchange\")).cast(DoubleType())\n",
    ")\n",
    "\n"
   ]
  },
  {
   "cell_type": "markdown",
   "metadata": {
    "application/vnd.databricks.v1+cell": {
     "cellMetadata": {
      "byteLimit": 2048000,
      "rowLimit": 10000
     },
     "inputWidgets": {},
     "nuid": "6956da0e-3d4b-44da-95d2-9c48ecd82a40",
     "showTitle": false,
     "tableResultSettingsMap": {},
     "title": ""
    }
   },
   "source": [
    "## 6. Tratamento de Dados\n",
    "\n",
    "- Preencher valores nulos críticos  \n",
    "- Ajustar tipos de colunas onde necessário  \n",
    "- Remover colunas intermediárias  \n",
    "\n",
    "\n"
   ]
  },
  {
   "cell_type": "code",
   "execution_count": 0,
   "metadata": {
    "application/vnd.databricks.v1+cell": {
     "cellMetadata": {
      "byteLimit": 2048000,
      "rowLimit": 10000
     },
     "inputWidgets": {},
     "nuid": "2c0e200d-2543-4339-8dc5-59f30064d4dc",
     "showTitle": false,
     "tableResultSettingsMap": {},
     "title": ""
    }
   },
   "outputs": [],
   "source": [
    "# Preenchimento de nulos após joins\n",
    "df = df.fillna({\n",
    "    \"category\": \"unknown\",\n",
    "    \"subcategory\": \"unknown\",\n",
    "    \"exchange\": 1.0\n",
    "})\n",
    "\n",
    "df = df.withColumn(\"square_meters\", col(\"square_meters\").cast(IntegerType()))\n",
    "\n",
    "# Remover colunas temporárias\n",
    "df = df.drop(\"currency_code\", \"e.date\", \"e.currency\", \"e.exchange\")\n",
    "\n"
   ]
  },
  {
   "cell_type": "markdown",
   "metadata": {
    "application/vnd.databricks.v1+cell": {
     "cellMetadata": {
      "byteLimit": 2048000,
      "rowLimit": 10000
     },
     "inputWidgets": {},
     "nuid": "4e8f786c-e36a-4199-b4ef-29e695faf8bc",
     "showTitle": false,
     "tableResultSettingsMap": {},
     "title": ""
    }
   },
   "source": [
    "## 7. Verificação Final\n",
    "\n",
    "Visualizar esquema e sample de colunas-chave antes da escrita.\n",
    "\n"
   ]
  },
  {
   "cell_type": "code",
   "execution_count": 0,
   "metadata": {
    "application/vnd.databricks.v1+cell": {
     "cellMetadata": {
      "byteLimit": 2048000,
      "rowLimit": 10000
     },
     "inputWidgets": {},
     "nuid": "acec6cdb-5b48-432f-906b-b9de247cc80a",
     "showTitle": false,
     "tableResultSettingsMap": {},
     "title": ""
    }
   },
   "outputs": [
    {
     "output_type": "stream",
     "name": "stdout",
     "output_type": "stream",
     "text": [
      "root\n |-- order_number: integer (nullable = true)\n |-- line_item: integer (nullable = true)\n |-- order_date: date (nullable = true)\n |-- delivery_date: date (nullable = true)\n |-- customerkey: integer (nullable = true)\n |-- storekey: integer (nullable = true)\n |-- productkey: integer (nullable = true)\n |-- quantity: integer (nullable = true)\n |-- category: string (nullable = false)\n |-- subcategory: string (nullable = false)\n |-- unit_price_usd: double (nullable = true)\n |-- country: string (nullable = true)\n |-- state: string (nullable = true)\n |-- square_meters: integer (nullable = true)\n |-- date: date (nullable = true)\n |-- currency: string (nullable = true)\n |-- exchange: double (nullable = false)\n |-- total_sales_usd: double (nullable = true)\n\n+----------+--------------+--------+------------------+\n|order_date|unit_price_usd|quantity|total_sales_usd   |\n+----------+--------------+--------+------------------+\n|2016-01-01|68.0          |1       |94.41120000000001 |\n|2016-01-01|427.0         |2       |854.0             |\n|2016-01-01|665.94        |1       |665.94            |\n|2016-01-01|322.0         |7       |3129.4536000000003|\n|2016-01-01|326.0         |1       |452.6184          |\n|2016-01-01|646.0         |4       |3587.6256000000003|\n|2016-01-01|1592.2        |6       |6440.7674400000005|\n|2016-01-01|255.0         |2       |343.842           |\n|2016-01-01|469.0         |4       |1723.106          |\n|2016-01-01|57.99         |1       |57.99             |\n+----------+--------------+--------+------------------+\nonly showing top 10 rows\n\n"
     ]
    }
   ],
   "source": [
    "df.printSchema()\n",
    "df.select(\"order_date\", \"unit_price_usd\", \"quantity\", \"total_sales_usd\").show(10, truncate=False)"
   ]
  },
  {
   "cell_type": "markdown",
   "metadata": {
    "application/vnd.databricks.v1+cell": {
     "cellMetadata": {
      "byteLimit": 2048000,
      "rowLimit": 10000
     },
     "inputWidgets": {},
     "nuid": "a054fe40-bd3f-4799-be30-8b49bb19ae86",
     "showTitle": false,
     "tableResultSettingsMap": {},
     "title": ""
    }
   },
   "source": []
  },
  {
   "cell_type": "markdown",
   "metadata": {
    "application/vnd.databricks.v1+cell": {
     "cellMetadata": {
      "byteLimit": 2048000,
      "rowLimit": 10000
     },
     "inputWidgets": {},
     "nuid": "b1be18a7-9569-4ee3-b5a2-11929fe70bdd",
     "showTitle": false,
     "tableResultSettingsMap": {},
     "title": ""
    }
   },
   "source": [
    "## 8. Escrita da Camada Silver\n",
    "\n",
    "Gravar como Delta Table e registrar no catálogo `silver`.\n",
    "\n"
   ]
  },
  {
   "cell_type": "code",
   "execution_count": 0,
   "metadata": {
    "application/vnd.databricks.v1+cell": {
     "cellMetadata": {
      "byteLimit": 2048000,
      "rowLimit": 10000
     },
     "inputWidgets": {},
     "nuid": "a028ca56-a1bf-4d31-aabd-2b6d5d374ac3",
     "showTitle": false,
     "tableResultSettingsMap": {},
     "title": ""
    }
   },
   "outputs": [
    {
     "output_type": "stream",
     "name": "stdout",
     "output_type": "stream",
     "text": [
      "Out[33]: DataFrame[]"
     ]
    }
   ],
   "source": [
    "# Gravar no DBFS em formato Delta\n",
    "df.write \\\n",
    "  .format(\"delta\") \\\n",
    "  .mode(\"overwrite\") \\\n",
    "  .save(silver_path)\n",
    "\n",
    "# Criar database e tabela no catálogo SQL\n",
    "spark.sql(f\"CREATE DATABASE IF NOT EXISTS {silver_db}\")\n",
    "spark.sql(f\"\"\"\n",
    "  CREATE TABLE IF NOT EXISTS {silver_db}.sales_silver\n",
    "  USING DELTA\n",
    "  LOCATION '{silver_path}'\n",
    "\"\"\")\n"
   ]
  },
  {
   "cell_type": "markdown",
   "metadata": {
    "application/vnd.databricks.v1+cell": {
     "cellMetadata": {
      "byteLimit": 2048000,
      "rowLimit": 10000
     },
     "inputWidgets": {},
     "nuid": "f48fcab0-c407-44d0-a85d-5ef6bcf9bfdb",
     "showTitle": false,
     "tableResultSettingsMap": {},
     "title": ""
    }
   },
   "source": [
    "## 9. Próximos Passos\n",
    "\n",
    "- Realizar agregações temporais na camada Gold\n",
    "- Calcular métricas como `total_sales_usd` por mês e por loja/subcategoria  \n",
    "- Preparar séries temporais contínuas para modelagem preditiva (SARIMA, Prophet)\n"
   ]
  }
 ],
 "metadata": {
  "application/vnd.databricks.v1+notebook": {
   "computePreferences": null,
   "dashboards": [],
   "environmentMetadata": {
    "base_environment": "",
    "environment_version": "1"
   },
   "inputWidgetPreferences": null,
   "language": "python",
   "notebookMetadata": {
    "mostRecentlyExecutedCommandWithImplicitDF": {
     "commandId": 3270561482314172,
     "dataframes": [
      "_sqldf"
     ]
    },
    "pythonIndentUnit": 4
   },
   "notebookName": "01_silver_transformacoes",
   "widgets": {}
  },
  "language_info": {
   "name": "python"
  }
 },
 "nbformat": 4,
 "nbformat_minor": 0
}